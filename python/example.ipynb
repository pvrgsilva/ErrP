{
 "cells": [
  {
   "cell_type": "markdown",
   "metadata": {},
   "source": [
    "# Example of use of class `ErrP`\n",
    "\n",
    "Author: Paulo V.R.G. Silva  \n",
    "Created in 29/05/2020  \n",
    "Last update in 29/05/2020"
   ]
  },
  {
   "cell_type": "code",
   "execution_count": 1,
   "metadata": {},
   "outputs": [],
   "source": [
    "#importing modules and files...\n",
    "from ErrP import ErrP"
   ]
  },
  {
   "cell_type": "code",
   "execution_count": 2,
   "metadata": {},
   "outputs": [
    {
     "name": "stdout",
     "output_type": "stream",
     "text": [
      "Creating object\n",
      "Model model1; Using Covariance: False.\n",
      "Model MyModel; Using Covariance: False.\n"
     ]
    }
   ],
   "source": [
    "model = ErrP('model1')\n",
    "print(model)\n",
    "model.setModelName('MyModel')\n",
    "print(model)"
   ]
  }
 ],
 "metadata": {
  "kernelspec": {
   "display_name": "Python 3",
   "language": "python",
   "name": "python3"
  },
  "language_info": {
   "codemirror_mode": {
    "name": "ipython",
    "version": 3
   },
   "file_extension": ".py",
   "mimetype": "text/x-python",
   "name": "python",
   "nbconvert_exporter": "python",
   "pygments_lexer": "ipython3",
   "version": "3.7.6"
  }
 },
 "nbformat": 4,
 "nbformat_minor": 4
}
